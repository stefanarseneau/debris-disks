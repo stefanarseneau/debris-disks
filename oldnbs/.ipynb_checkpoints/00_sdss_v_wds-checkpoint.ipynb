{
 "cells": [
  {
   "cell_type": "code",
   "execution_count": 1,
   "metadata": {
    "tags": []
   },
   "outputs": [],
   "source": [
    "from astropy.io import fits\n",
    "import pandas as pd\n",
    "\n",
    "#to import SDSS-V data\n",
    "import fsspec\n",
    "import requests\n",
    "import aiohttp"
   ]
  },
  {
   "cell_type": "markdown",
   "metadata": {},
   "source": [
    "# This notebook gets the sample of all SDSS-V spectra flagged by SnowWhite as DA WDs\n",
    "\n",
    "# Get Sample of SDSS-V Spectra\n",
    "\n",
    "The data can be accessed from SAS: https://data.sdss5.org/sas/sdsswork/\n",
    "\n",
    "You must use the common SDSS username and password\n",
    "\n",
    "**LATEST link to data:** (has both plate and FPS program data)\n",
    "\n",
    "https://data.sdss5.org/sas/sdsswork/bhm/boss/spectro/redux/v6_1_0/spectra\n",
    "\n",
    "\n",
    "The spectra directory is organized as follows:\n",
    "\n",
    "    - Plate number (ex. 15000/)\n",
    "        - MJD (ex. 15000/59146/)\n",
    "            - spectum fits file labeled by spec-PLATE-MJD-CATALOGID.fits (ex. spec-015000-59146-4375786564.fits)\n",
    "            - the most recent spAll file also has a SPEC_FILE column which gives the name of the fits file\n",
    "\n",
    "Download and open spAll-master.fits\n",
    "\n",
    "    - This is a table that has information about objects observed in the plate and FPS programs"
   ]
  },
  {
   "cell_type": "code",
   "execution_count": 2,
   "metadata": {
    "tags": []
   },
   "outputs": [
    {
     "data": {
      "text/plain": [
       "'\\nfile=\\'spAll-lite-v6_1_0.fits.gz\\'\\n\\nurl=\\'https://data.sdss5.org/sas/sdsswork/bhm/boss/spectro/redux/v6_1_0/\\'+file\\n\\n#this is a very large file, so use with\\nwith fits.open(url, use_fsspec=True, fsspec_kwargs={\"auth\":aiohttp.BasicAuth(username, password)}) as master_tab:\\n\\n    #get the file info\\n    #master_tab.info()\\n\\n    #see the table columns\\n    #master_tab[1].header\\n\\n    # turn the important columns into a pandas dataframe\\n    master_df=pd.DataFrame({\\'CATALOGID\\':master_tab[1].data[\\'CATALOGID\\'].tolist(),\\n                        \\'SPEC_FILE\\':master_tab[1].data[\\'SPEC_FILE\\'].tolist(), #file name of spectrum\\n                        \\'SN_MEDIAN_ALL\\':master_tab[1].data[\\'SN_MEDIAN_ALL\\'].tolist(), #median S/N for all good pixels in all filters\\n                       \\'MJD\\':master_tab[1].data[\\'MJD\\'].tolist(), #observation time\\n                       #\\'GAIA_BP\\':master_tab[1].data[\\'GAIA_BP\\'].tolist(), #BP=blue photometer\\n                       #\\'GAIA_RP\\':master_tab[1].data[\\'GAIA_RP\\'].tolist(), #RP=red photometer\\n                       #\\'GAIA_G\\':master_tab[1].data[\\'GAIA_G\\'].tolist(), #G passband magnitude\\n                       #\\'PARALLAX\\':master_tab[1].data[\\'PARALLAX\\'].tolist(), #Gaia parallax\\n                        #\\'XCSAO_RV\\':master_tab[1].data[\\'XCSAO_RV\\'].tolist(), #pipeline measured RV\\n                        #\\'XCSAO_ERV\\':master_tab[1].data[\\'XCSAO_ERV\\'].tolist() #pipeline measured RV error\\n                        #\\'XCSAO_RXC\\':master_tab[1].data[\\'XCSAO_RXC\\'].tolist(), #quality of fit, takes into the acount both the SNR and the faithfulness of the template match\\n                        #\\'XCSAO_TEFF\\':master_tab[1].data[\\'XCSAO_TEFF\\'].tolist(), #pipeline measured Teff\\n                        #\\'XCSAO_ETEFF\\':master_tab[1].data[\\'XCSAO_ETEFF\\'].tolist(), #pipeline measured Teff error\\n                        #\\'XCSAO_LOGG\\':master_tab[1].data[\\'XCSAO_LOGG\\'].tolist(),#pipeline measured logg\\n                        #\\'XCSAO_ELOGG\\':master_tab[1].data[\\'XCSAO_ELOGG\\'].tolist(), ##pipeline measured logg error\\n                       })\\ndisplay(master_df)\\n'"
      ]
     },
     "execution_count": 2,
     "metadata": {},
     "output_type": "execute_result"
    }
   ],
   "source": [
    "#to open the latest version of the spAll file from the SDSS-V database without downloading it\n",
    "#for now, use the downloaded version\n",
    "\"\"\"\n",
    "file='spAll-lite-v6_1_0.fits.gz'\n",
    "\n",
    "url='https://data.sdss5.org/sas/sdsswork/bhm/boss/spectro/redux/v6_1_0/'+file\n",
    "\n",
    "#this is a very large file, so use with\n",
    "with fits.open(url, use_fsspec=True, fsspec_kwargs={\"auth\":aiohttp.BasicAuth(username, password)}) as master_tab:\n",
    "\n",
    "    #get the file info\n",
    "    #master_tab.info()\n",
    "\n",
    "    #see the table columns\n",
    "    #master_tab[1].header\n",
    "\n",
    "    # turn the important columns into a pandas dataframe\n",
    "    master_df=pd.DataFrame({'CATALOGID':master_tab[1].data['CATALOGID'].tolist(),\n",
    "                        'SPEC_FILE':master_tab[1].data['SPEC_FILE'].tolist(), #file name of spectrum\n",
    "                        'SN_MEDIAN_ALL':master_tab[1].data['SN_MEDIAN_ALL'].tolist(), #median S/N for all good pixels in all filters\n",
    "                       'MJD':master_tab[1].data['MJD'].tolist(), #observation time\n",
    "                       #'GAIA_BP':master_tab[1].data['GAIA_BP'].tolist(), #BP=blue photometer\n",
    "                       #'GAIA_RP':master_tab[1].data['GAIA_RP'].tolist(), #RP=red photometer\n",
    "                       #'GAIA_G':master_tab[1].data['GAIA_G'].tolist(), #G passband magnitude\n",
    "                       #'PARALLAX':master_tab[1].data['PARALLAX'].tolist(), #Gaia parallax\n",
    "                        #'XCSAO_RV':master_tab[1].data['XCSAO_RV'].tolist(), #pipeline measured RV\n",
    "                        #'XCSAO_ERV':master_tab[1].data['XCSAO_ERV'].tolist() #pipeline measured RV error\n",
    "                        #'XCSAO_RXC':master_tab[1].data['XCSAO_RXC'].tolist(), #quality of fit, takes into the acount both the SNR and the faithfulness of the template match\n",
    "                        #'XCSAO_TEFF':master_tab[1].data['XCSAO_TEFF'].tolist(), #pipeline measured Teff\n",
    "                        #'XCSAO_ETEFF':master_tab[1].data['XCSAO_ETEFF'].tolist(), #pipeline measured Teff error\n",
    "                        #'XCSAO_LOGG':master_tab[1].data['XCSAO_LOGG'].tolist(),#pipeline measured logg\n",
    "                        #'XCSAO_ELOGG':master_tab[1].data['XCSAO_ELOGG'].tolist(), ##pipeline measured logg error\n",
    "                       })\n",
    "display(master_df)\n",
    "\"\"\""
   ]
  },
  {
   "cell_type": "code",
   "execution_count": null,
   "metadata": {
    "tags": []
   },
   "outputs": [],
   "source": [
    "#to open a version of the spallv6_1_0 file that I downloaded from the SDSS-V database earlier\n",
    "#this version will be missing the latest observations\n",
    "\n",
    "\n",
    "#this is a very large file, so use with to open the fits file\n",
    "with fits.open('../bigdata/spAll-v6_1_0.fits') as master_tab:\n",
    "\n",
    "    #get the file info\n",
    "    #master_tab.info()\n",
    "\n",
    "    #see the table columns\n",
    "    #master_tab[1].header\n",
    "\n",
    "    # turn the important columns into a pandas dataframe\n",
    "    master_df=pd.DataFrame({'CATALOGID':master_tab[1].data['CATALOGID'].tolist(),\n",
    "                        'SPEC_FILE':master_tab[1].data['SPEC_FILE'].tolist(), #file name of spectrum\n",
    "                        #'SN_MEDIAN_ALL':master_tab[1].data['SN_MEDIAN_ALL'].tolist(), #median S/N for all good pixels in all filters\n",
    "                       #'MJD':master_tab[1].data['MJD'].tolist(), #observation time\n",
    "                       #'GAIA_BP':master_tab[1].data['GAIA_BP'].tolist(), #BP=blue photometer\n",
    "                       #'GAIA_RP':master_tab[1].data['GAIA_RP'].tolist(), #RP=red photometer\n",
    "                       #'GAIA_G':master_tab[1].data['GAIA_G'].tolist(), #G passband magnitude\n",
    "                       #'PARALLAX':master_tab[1].data['PARALLAX'].tolist(), #Gaia parallax\n",
    "                        #'XCSAO_RV':master_tab[1].data['XCSAO_RV'].tolist(), #pipeline measured RV\n",
    "                        #'XCSAO_ERV':master_tab[1].data['XCSAO_ERV'].tolist() #pipeline measured RV error\n",
    "                        #'XCSAO_RXC':master_tab[1].data['XCSAO_RXC'].tolist(), #quality of fit, takes into the acount both the SNR and the faithfulness of the template match\n",
    "                        #'XCSAO_TEFF':master_tab[1].data['XCSAO_TEFF'].tolist(), #pipeline measured Teff\n",
    "                        #'XCSAO_ETEFF':master_tab[1].data['XCSAO_ETEFF'].tolist(), #pipeline measured Teff error\n",
    "                        #'XCSAO_LOGG':master_tab[1].data['XCSAO_LOGG'].tolist(),#pipeline measured logg\n",
    "                        #'XCSAO_ELOGG':master_tab[1].data['XCSAO_ELOGG'].tolist(), ##pipeline measured logg error\n",
    "                       })\n",
    "display(master_df)\n"
   ]
  },
  {
   "cell_type": "markdown",
   "metadata": {},
   "source": [
    "# Get the SDSS-V WD Classifications\n",
    "Download the SnowWhite classifications (allStar-SnowWhite-0.3.0-v6_0_9-1.0.fits) from\n",
    "\n",
    "https://data.sdss5.org/sas/sdsswork/mwm/spectro/astra/0.3.0/v6_0_9-1.0/summary/"
   ]
  },
  {
   "cell_type": "code",
   "execution_count": null,
   "metadata": {},
   "outputs": [],
   "source": [
    "#to open the latest version of the SnowWhite classifications from the SDSS-V database without downloading it\n",
    "#for now, use the downloaded version\n",
    "\"\"\"\n",
    "file='allStar-SnowWhite-0.3.0-v6_0_9-1.0.fits'\n",
    "\n",
    "url='https://data.sdss5.org/sas/sdsswork/mwm/spectro/astra/0.3.0/v6_0_9-1.0/summary/'+file\n",
    "\n",
    "#this is a very large file, so use with\n",
    "with fits.open(url, use_fsspec=True, fsspec_kwargs={\"auth\":aiohttp.BasicAuth(username, password)}) as SWfile:\n",
    "\n",
    "    #get the file info\n",
    "    #SWfile.info()\n",
    "\n",
    "    #see the table columns\n",
    "    #SWfile[1].header\n",
    "\n",
    "    # turn the important columns into a pandas dataframe\n",
    "    SW_df=pd.DataFrame({'CATALOGID':SWfile[1].data['CAT_ID  '].tolist(), #SDSS-V catalog identifier  \n",
    "                    'RA':SWfile[1].data['RA      '].tolist(), #SDSS-V catalog right ascension (J2000) [deg]   \n",
    "                    'DEC':SWfile[1].data['DEC     '].tolist(), #SDSS-V catalog declination (J2000) [deg] \n",
    "                    'GAIA_DR3_SOURCE_ID':SWfile[1].data['GAIA_DR3_SOURCE_ID'].tolist(), #Gaia (DR3) source identifier\n",
    "                    #'PLX':SWfile[1].data['PLX     '].tolist(), #Gaia parallax [mas]\n",
    "                    #'GAIA_V_RAD':SWfile[1].data['GAIA_V_RAD'].tolist(), #Gaia radial velocity [km/s]\n",
    "                    #'GAIA_E_V_RAD':SWfile[1].data['GAIA_E_V_RAD'].tolist(), #Gaia radial velocity error [km/s]\n",
    "                    #'G_MAG':SWfile[1].data['G_MAG   '].tolist(), #Gaia mean apparent G magnitude [mag]\n",
    "                    #'BP_MAG':SWfile[1].data['BP_MAG  '].tolist(), #Gaia mean apparent BP magnitude [mag]\n",
    "                    #'RP_MAG':SWfile[1].data['RP_MAG  '].tolist(), #Gaia mean apparent RP magnitude [mag]\n",
    "                    #'XCSAO_TEFF':SWfile[1].data['XCSAO_TEFF'].tolist(), #Effective temperature from XCSAO [K]\n",
    "                    #'XCSAO_E_TEFF':SWfile[1].data['XCSAO_E_TEFF'].tolist(), #Error in effective temperature from XCSAO [K] \n",
    "                    #'XCSAO_LOGG':SWfile[1].data['XCSAO_LOGG'].tolist(), #Surface gravity from XCSAO   \n",
    "                    #'XCSAO_E_LOGG':SWfile[1].data['XCSAO_E_LOGG'].tolist(), #Error in surface gravity from XCSAO \n",
    "                    #'XCSAO_V_RAD':SWfile[1].data['XCSAO_V_RAD'].tolist(), #Radial velocity from XCSAO [km/s]  \n",
    "                    #'XCSAO_E_V_RAD':SWfile[1].data['XCSAO_E_V_RAD'].tolist(), #Error in radial velocity from XCSAO [km/s]\n",
    "                    'SNR_SW':SWfile[1].data['SNR     '].tolist(), #Mean signal-to-noise ratio\n",
    "                    'WD_TYPE':SWfile[1].data['WD_TYPE '].tolist(), #White dwarf type \n",
    "                    'TEFF':SWfile[1].data['TEFF    '].tolist(), #Stellar effective temperature [K]  \n",
    "                    'E_TEFF':SWfile[1].data['E_TEFF  '].tolist(), #Error in stellar effective temperature [K] \n",
    "                    'LOGG':SWfile[1].data['LOGG    '].tolist(), #Surface gravity [log10(cm/s^2)]  \n",
    "                    'E_LOGG':SWfile[1].data['E_LOGG  '].tolist(), #Error in surface gravity [log10(cm/s^2)] \n",
    "                    #'V_REL':SWfile[1].data['V_REL   '].tolist() #Relative velocity [km/s] \n",
    "                    #'CONDITIONED_ON_PARALLAX':SWfile[1].data['CONDITIONED_ON_PARALLAX'].tolist(), #Parallax used to constrain solution [mas] \n",
    "                    #'CONDITIONED_ON_PHOT_G_MEAN_MAG':SWfile[1].data['CONDITIONED_ON_PHOT_G_MEAN_MAG'].tolist() #G mag used to constrain solution\n",
    "                   })\n",
    "display(SW_df)\n",
    "\"\"\""
   ]
  },
  {
   "cell_type": "code",
   "execution_count": null,
   "metadata": {},
   "outputs": [],
   "source": [
    "#open the WD classification files\n",
    "SWfile=fits.open('../bigdata/allStar-SnowWhite-0.3.0-v6_0_9-1.0.fits')\n",
    "\n",
    "#SWfile.info()\n",
    "\n",
    "#SWfile[1].header\n",
    "\n",
    "# turn the important columns into a pandas dataframe\n",
    "SW_df=pd.DataFrame({'CATALOGID':SWfile[1].data['CAT_ID  '].tolist(), #SDSS-V catalog identifier  \n",
    "                    'RA':SWfile[1].data['RA      '].tolist(), #SDSS-V catalog right ascension (J2000) [deg]   \n",
    "                    'DEC':SWfile[1].data['DEC     '].tolist(), #SDSS-V catalog declination (J2000) [deg] \n",
    "                    #'GAIA_DR3_SOURCE_ID':SWfile[1].data['GAIA_DR3_SOURCE_ID'].tolist(), #Gaia (DR3) source identifier\n",
    "                    #'PLX':SWfile[1].data['PLX     '].tolist(), #Gaia parallax [mas]\n",
    "                    #'GAIA_V_RAD':SWfile[1].data['GAIA_V_RAD'].tolist(), #Gaia radial velocity [km/s]\n",
    "                    #'GAIA_E_V_RAD':SWfile[1].data['GAIA_E_V_RAD'].tolist(), #Gaia radial velocity error [km/s]\n",
    "                    #'G_MAG':SWfile[1].data['G_MAG   '].tolist(), #Gaia mean apparent G magnitude [mag]\n",
    "                    #'BP_MAG':SWfile[1].data['BP_MAG  '].tolist(), #Gaia mean apparent BP magnitude [mag]\n",
    "                    #'RP_MAG':SWfile[1].data['RP_MAG  '].tolist(), #Gaia mean apparent RP magnitude [mag]\n",
    "                    #'XCSAO_TEFF':SWfile[1].data['XCSAO_TEFF'].tolist(), #Effective temperature from XCSAO [K]\n",
    "                    #'XCSAO_E_TEFF':SWfile[1].data['XCSAO_E_TEFF'].tolist(), #Error in effective temperature from XCSAO [K] \n",
    "                    #'XCSAO_LOGG':SWfile[1].data['XCSAO_LOGG'].tolist(), #Surface gravity from XCSAO   \n",
    "                    #'XCSAO_E_LOGG':SWfile[1].data['XCSAO_E_LOGG'].tolist(), #Error in surface gravity from XCSAO \n",
    "                    #'XCSAO_V_RAD':SWfile[1].data['XCSAO_V_RAD'].tolist(), #Radial velocity from XCSAO [km/s]  \n",
    "                    #'XCSAO_E_V_RAD':SWfile[1].data['XCSAO_E_V_RAD'].tolist(), #Error in radial velocity from XCSAO [km/s]\n",
    "                    'SNR_SnowWhite':SWfile[1].data['SNR     '].tolist(), #Mean signal-to-noise ratio\n",
    "                    'WD_TYPE':SWfile[1].data['WD_TYPE '].tolist(), #White dwarf type \n",
    "                    'Teff_SnowWhite':SWfile[1].data['TEFF    '].tolist(), #Stellar effective temperature [K]  \n",
    "                    'E_Teff_SnowWhite':SWfile[1].data['E_TEFF  '].tolist(), #Error in stellar effective temperature [K] \n",
    "                    'Logg_SnowWhite':SWfile[1].data['LOGG    '].tolist(), #Surface gravity [log10(cm/s^2)]  \n",
    "                    'E_Logg_SnowWhite':SWfile[1].data['E_LOGG  '].tolist(), #Error in surface gravity [log10(cm/s^2)] \n",
    "                    #'V_REL':SWfile[1].data['V_REL   '].tolist() #Relative velocity [km/s] \n",
    "                    #'CONDITIONED_ON_PARALLAX':SWfile[1].data['CONDITIONED_ON_PARALLAX'].tolist(), #Parallax used to constrain solution [mas] \n",
    "                    #'CONDITIONED_ON_PHOT_G_MEAN_MAG':SWfile[1].data['CONDITIONED_ON_PHOT_G_MEAN_MAG'].tolist() #G mag used to constrain solution\n",
    "                   })\n",
    "            \n",
    "#display(SW_df)"
   ]
  },
  {
   "cell_type": "markdown",
   "metadata": {},
   "source": [
    "# Merge the dataframes"
   ]
  },
  {
   "cell_type": "code",
   "execution_count": null,
   "metadata": {},
   "outputs": [],
   "source": [
    "from astropy.table import Table, Column, MaskedColumn, join, unique\n",
    "\n",
    "#match the master_df to the SW_df on SDSS catalog ID to add the spectrum file name to the SW_df\n",
    "\n",
    "#the merged dataframe is longer because multiple objects have the same CATALOGID in master_df\n",
    "#but different spec files. These are multiple observations of the same WD (different MJD).\n",
    "\n",
    "SDSSV_WD_df=pd.merge(left=SW_df,right=master_df,on='CATALOGID',how=\"inner\")"
   ]
  },
  {
   "cell_type": "code",
   "execution_count": null,
   "metadata": {},
   "outputs": [],
   "source": [
    "from astropy.io import ascii\n",
    "\n",
    "SDSSV_WD_df = SDSSV_WD_df.drop_duplicates(subset='CATALOGID')\n",
    "#SDSS_DA_df.to_csv('data/all_wds.csv',index=False)\n",
    "\n",
    "t2 = Table.from_pandas(SDSS_DA_df)\n",
    "t2 = t2[['CATALOGID', 'RA', 'DEC']]\n",
    "t2.rename_columns(['RA','DEC'], ['ra','dec'])\n",
    "\n",
    "ascii.write(t2, 'data/all_wds.dat', format='ipac', overwrite=True)"
   ]
  }
 ],
 "metadata": {
  "kernelspec": {
   "display_name": "Python 3",
   "language": "python",
   "name": "python3"
  },
  "language_info": {
   "codemirror_mode": {
    "name": "ipython",
    "version": 3
   },
   "file_extension": ".py",
   "mimetype": "text/x-python",
   "name": "python",
   "nbconvert_exporter": "python",
   "pygments_lexer": "ipython3",
   "version": "3.8.3"
  }
 },
 "nbformat": 4,
 "nbformat_minor": 5
}
